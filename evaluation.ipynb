{
 "cells": [
  {
   "cell_type": "code",
   "execution_count": 1,
   "id": "ab8bed24",
   "metadata": {},
   "outputs": [],
   "source": [
    "import time\n",
    "from nltk.corpus import brown\n",
    "from pixeltokenizers import *\n",
    "\n",
    "\n",
    "test_sents = [\" \".join([token for token in sent]) for sent in brown.sents()]\n",
    "\n",
    "def evaluate_tokenizer(tokenizer):\n",
    "    start_time = time.time()\n",
    "\n",
    "    for sent in test_sents:\n",
    "        tokenizer.tokenize(sent)\n",
    "\n",
    "    duration = time.time() - start_time\n",
    "    return duration"
   ]
  },
  {
   "cell_type": "code",
   "execution_count": 7,
   "id": "366c0329",
   "metadata": {},
   "outputs": [
    {
     "name": "stdout",
     "output_type": "stream",
     "text": [
      "Image Tokenizer - initialization - duration: 0.0\n",
      "Matrix Tokenizer - initialization - duration: 0.001459360122680664\n",
      "\n",
      "n samples: 57340\n",
      "Image Tokenizer - inference - duration: 69.45644283294678\n",
      "Matrix Tokenizer - inference - duration: 3.833766460418701\n"
     ]
    }
   ],
   "source": [
    "start_time = time.time()\n",
    "_img_tokenizer = ImageTokenizer()\n",
    "duration = time.time() - start_time\n",
    "print(\"Image Tokenizer - initialization - duration:\", duration)\n",
    "\n",
    "start_time = time.time()\n",
    "_matrix_tokenizer = MatrixTokenizer()\n",
    "duration = time.time() - start_time\n",
    "print(\"Matrix Tokenizer - initialization - duration:\", duration)\n",
    "\n",
    "print(\"\\nn samples:\", len(test_sents))\n",
    "print(\"Image Tokenizer - inference - duration:\", evaluate_tokenizer(_img_tokenizer))\n",
    "print(\"Matrix Tokenizer - inference - duration:\", evaluate_tokenizer(_matrix_tokenizer))"
   ]
  },
  {
   "cell_type": "code",
   "execution_count": 8,
   "id": "ca825180",
   "metadata": {},
   "outputs": [
    {
     "data": {
      "image/jpeg": "[encoded data removed]",
      "image/png": "[encoded data removed]",
      "text/plain": [
       "<PIL.Image.Image image mode=L size=223x15>"
      ]
     },
     "metadata": {},
     "output_type": "display_data"
    },
    {
     "data": {
      "image/jpeg": "[encoded data removed]",
      "image/png": "[encoded data removed]",
      "text/plain": [
       "<PIL.Image.Image image mode=L size=223x15>"
      ]
     },
     "metadata": {},
     "output_type": "display_data"
    }
   ],
   "source": [
    "# Example sentence from brown corpus\n",
    "\n",
    "display(_img_tokenizer.tokenize(test_sents[42]).to_image())\n",
    "display(_matrix_tokenizer.tokenize(test_sents[42]).to_image())"
   ]
  },
  {
   "cell_type": "code",
   "execution_count": 3,
   "id": "1771e53f",
   "metadata": {},
   "outputs": [
    {
     "data": {
      "image/jpeg": "[encoded data removed]",
      "image/png": "[encoded data removed]",
      "text/plain": [
       "<PIL.Image.Image image mode=L size=106x15>"
      ]
     },
     "metadata": {},
     "output_type": "display_data"
    },
    {
     "data": {
      "image/jpeg": "[encoded data removed]",
      "image/png": "[encoded data removed]",
      "text/plain": [
       "<PIL.Image.Image image mode=L size=59x15>"
      ]
     },
     "metadata": {},
     "output_type": "display_data"
    }
   ],
   "source": [
    "# It does not work with left-to-right and connected text\n",
    "display(PixelTokenizer(r\"C:\\Windows\\Fonts\\DUBAI-REGULAR.ttf\").tokenize(\"بسم الله الرحمن الرحيم\").to_image())\n",
    "\n",
    "# Default font does not support emoji\n",
    "display(PixelTokenizer().tokenize(u\"This is cool! 😎\").to_image())"
   ]
  },
  {
   "cell_type": "code",
   "execution_count": null,
   "id": "fb8a47ec",
   "metadata": {},
   "outputs": [],
   "source": []
  }
 ],
 "metadata": {
  "kernelspec": {
   "display_name": "Python 3 (ipykernel)",
   "language": "python",
   "name": "python3"
  },
  "language_info": {
   "codemirror_mode": {
    "name": "ipython",
    "version": 3
   },
   "file_extension": ".py",
   "mimetype": "text/x-python",
   "name": "python",
   "nbconvert_exporter": "python",
   "pygments_lexer": "ipython3",
   "version": "3.10.11"
  }
 },
 "nbformat": 4,
 "nbformat_minor": 5
}
